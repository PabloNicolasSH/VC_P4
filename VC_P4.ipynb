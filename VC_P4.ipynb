{
 "cells": [
  {
   "metadata": {},
   "cell_type": "markdown",
   "source": "#Paquetes necesarios"
  },
  {
   "metadata": {},
   "cell_type": "code",
   "outputs": [],
   "execution_count": null,
   "source": [
    "import cv2  \n",
    "import math \n",
    "\n",
    "from ultralytics import YOLO"
   ]
  },
  {
   "metadata": {},
   "cell_type": "markdown",
   "source": "Entrenamiento del modelo que detecta matrículas de coches"
  },
  {
   "metadata": {},
   "cell_type": "code",
   "outputs": [],
   "execution_count": null,
   "source": [
    "import cv2  \n",
    "import math \n",
    "\n",
    "from ultralytics import YOLO"
   ]
  },
  {
   "metadata": {},
   "cell_type": "markdown",
   "source": "Prueba del modelo creado"
  },
  {
   "metadata": {},
   "cell_type": "code",
   "outputs": [],
   "execution_count": null,
   "source": [
    "model = YOLO('runs/detect/train9/weights/best.pt')  #Aqui te descargas el modelo best.pt de la run\n",
    "\n",
    "#Para un vídeo \n",
    "filename = \"C0142.MP4\"\n",
    "results = model(filename, show=True)\n",
    "\n",
    "cv2.destroyAllWindows()"
   ]
  },
  {
   "metadata": {},
   "cell_type": "markdown",
   "source": "Uso de nuestro modelo combinado con el de personas"
  },
  {
   "metadata": {
    "ExecuteTime": {
     "end_time": "2024-10-30T12:10:46.508274Z",
     "start_time": "2024-10-30T12:10:46.113761Z"
    }
   },
   "cell_type": "code",
   "outputs": [
    {
     "ename": "AttributeError",
     "evalue": "module 'torch' has no attribute '__version__'",
     "output_type": "error",
     "traceback": [
      "\u001B[1;31m---------------------------------------------------------------------------\u001B[0m",
      "\u001B[1;31mAttributeError\u001B[0m                            Traceback (most recent call last)",
      "Cell \u001B[1;32mIn[2], line 4\u001B[0m\n\u001B[0;32m      1\u001B[0m \u001B[38;5;28;01mimport\u001B[39;00m \u001B[38;5;21;01mcv2\u001B[39;00m  \n\u001B[0;32m      2\u001B[0m \u001B[38;5;28;01mimport\u001B[39;00m \u001B[38;5;21;01mmath\u001B[39;00m \n\u001B[1;32m----> 4\u001B[0m \u001B[38;5;28;01mfrom\u001B[39;00m \u001B[38;5;21;01multralytics\u001B[39;00m \u001B[38;5;28;01mimport\u001B[39;00m YOLO\n",
      "File \u001B[1;32m~\\anaconda3\\envs\\VC_P4\\lib\\site-packages\\ultralytics\\__init__.py:11\u001B[0m\n\u001B[0;32m      8\u001B[0m \u001B[38;5;28;01mif\u001B[39;00m \u001B[38;5;129;01mnot\u001B[39;00m os\u001B[38;5;241m.\u001B[39menviron\u001B[38;5;241m.\u001B[39mget(\u001B[38;5;124m\"\u001B[39m\u001B[38;5;124mOMP_NUM_THREADS\u001B[39m\u001B[38;5;124m\"\u001B[39m):\n\u001B[0;32m      9\u001B[0m     os\u001B[38;5;241m.\u001B[39menviron[\u001B[38;5;124m\"\u001B[39m\u001B[38;5;124mOMP_NUM_THREADS\u001B[39m\u001B[38;5;124m\"\u001B[39m] \u001B[38;5;241m=\u001B[39m \u001B[38;5;124m\"\u001B[39m\u001B[38;5;124m1\u001B[39m\u001B[38;5;124m\"\u001B[39m  \u001B[38;5;66;03m# default for reduced CPU utilization during training\u001B[39;00m\n\u001B[1;32m---> 11\u001B[0m \u001B[38;5;28;01mfrom\u001B[39;00m \u001B[38;5;21;01multralytics\u001B[39;00m\u001B[38;5;21;01m.\u001B[39;00m\u001B[38;5;21;01mmodels\u001B[39;00m \u001B[38;5;28;01mimport\u001B[39;00m NAS, RTDETR, SAM, YOLO, FastSAM, YOLOWorld\n\u001B[0;32m     12\u001B[0m \u001B[38;5;28;01mfrom\u001B[39;00m \u001B[38;5;21;01multralytics\u001B[39;00m\u001B[38;5;21;01m.\u001B[39;00m\u001B[38;5;21;01mutils\u001B[39;00m \u001B[38;5;28;01mimport\u001B[39;00m ASSETS, SETTINGS\n\u001B[0;32m     13\u001B[0m \u001B[38;5;28;01mfrom\u001B[39;00m \u001B[38;5;21;01multralytics\u001B[39;00m\u001B[38;5;21;01m.\u001B[39;00m\u001B[38;5;21;01mutils\u001B[39;00m\u001B[38;5;21;01m.\u001B[39;00m\u001B[38;5;21;01mchecks\u001B[39;00m \u001B[38;5;28;01mimport\u001B[39;00m check_yolo \u001B[38;5;28;01mas\u001B[39;00m checks\n",
      "File \u001B[1;32m~\\anaconda3\\envs\\VC_P4\\lib\\site-packages\\ultralytics\\models\\__init__.py:3\u001B[0m\n\u001B[0;32m      1\u001B[0m \u001B[38;5;66;03m# Ultralytics YOLO 🚀, AGPL-3.0 license\u001B[39;00m\n\u001B[1;32m----> 3\u001B[0m \u001B[38;5;28;01mfrom\u001B[39;00m \u001B[38;5;21;01m.\u001B[39;00m\u001B[38;5;21;01mfastsam\u001B[39;00m \u001B[38;5;28;01mimport\u001B[39;00m FastSAM\n\u001B[0;32m      4\u001B[0m \u001B[38;5;28;01mfrom\u001B[39;00m \u001B[38;5;21;01m.\u001B[39;00m\u001B[38;5;21;01mnas\u001B[39;00m \u001B[38;5;28;01mimport\u001B[39;00m NAS\n\u001B[0;32m      5\u001B[0m \u001B[38;5;28;01mfrom\u001B[39;00m \u001B[38;5;21;01m.\u001B[39;00m\u001B[38;5;21;01mrtdetr\u001B[39;00m \u001B[38;5;28;01mimport\u001B[39;00m RTDETR\n",
      "File \u001B[1;32m~\\anaconda3\\envs\\VC_P4\\lib\\site-packages\\ultralytics\\models\\fastsam\\__init__.py:3\u001B[0m\n\u001B[0;32m      1\u001B[0m \u001B[38;5;66;03m# Ultralytics YOLO 🚀, AGPL-3.0 license\u001B[39;00m\n\u001B[1;32m----> 3\u001B[0m \u001B[38;5;28;01mfrom\u001B[39;00m \u001B[38;5;21;01m.\u001B[39;00m\u001B[38;5;21;01mmodel\u001B[39;00m \u001B[38;5;28;01mimport\u001B[39;00m FastSAM\n\u001B[0;32m      4\u001B[0m \u001B[38;5;28;01mfrom\u001B[39;00m \u001B[38;5;21;01m.\u001B[39;00m\u001B[38;5;21;01mpredict\u001B[39;00m \u001B[38;5;28;01mimport\u001B[39;00m FastSAMPredictor\n\u001B[0;32m      5\u001B[0m \u001B[38;5;28;01mfrom\u001B[39;00m \u001B[38;5;21;01m.\u001B[39;00m\u001B[38;5;21;01mval\u001B[39;00m \u001B[38;5;28;01mimport\u001B[39;00m FastSAMValidator\n",
      "File \u001B[1;32m~\\anaconda3\\envs\\VC_P4\\lib\\site-packages\\ultralytics\\models\\fastsam\\model.py:5\u001B[0m\n\u001B[0;32m      1\u001B[0m \u001B[38;5;66;03m# Ultralytics YOLO 🚀, AGPL-3.0 license\u001B[39;00m\n\u001B[0;32m      3\u001B[0m \u001B[38;5;28;01mfrom\u001B[39;00m \u001B[38;5;21;01mpathlib\u001B[39;00m \u001B[38;5;28;01mimport\u001B[39;00m Path\n\u001B[1;32m----> 5\u001B[0m \u001B[38;5;28;01mfrom\u001B[39;00m \u001B[38;5;21;01multralytics\u001B[39;00m\u001B[38;5;21;01m.\u001B[39;00m\u001B[38;5;21;01mengine\u001B[39;00m\u001B[38;5;21;01m.\u001B[39;00m\u001B[38;5;21;01mmodel\u001B[39;00m \u001B[38;5;28;01mimport\u001B[39;00m Model\n\u001B[0;32m      7\u001B[0m \u001B[38;5;28;01mfrom\u001B[39;00m \u001B[38;5;21;01m.\u001B[39;00m\u001B[38;5;21;01mpredict\u001B[39;00m \u001B[38;5;28;01mimport\u001B[39;00m FastSAMPredictor\n\u001B[0;32m      8\u001B[0m \u001B[38;5;28;01mfrom\u001B[39;00m \u001B[38;5;21;01m.\u001B[39;00m\u001B[38;5;21;01mval\u001B[39;00m \u001B[38;5;28;01mimport\u001B[39;00m FastSAMValidator\n",
      "File \u001B[1;32m~\\anaconda3\\envs\\VC_P4\\lib\\site-packages\\ultralytics\\engine\\model.py:11\u001B[0m\n\u001B[0;32m      8\u001B[0m \u001B[38;5;28;01mimport\u001B[39;00m \u001B[38;5;21;01mtorch\u001B[39;00m\n\u001B[0;32m      9\u001B[0m \u001B[38;5;28;01mfrom\u001B[39;00m \u001B[38;5;21;01mPIL\u001B[39;00m \u001B[38;5;28;01mimport\u001B[39;00m Image\n\u001B[1;32m---> 11\u001B[0m \u001B[38;5;28;01mfrom\u001B[39;00m \u001B[38;5;21;01multralytics\u001B[39;00m\u001B[38;5;21;01m.\u001B[39;00m\u001B[38;5;21;01mcfg\u001B[39;00m \u001B[38;5;28;01mimport\u001B[39;00m TASK2DATA, get_cfg, get_save_dir\n\u001B[0;32m     12\u001B[0m \u001B[38;5;28;01mfrom\u001B[39;00m \u001B[38;5;21;01multralytics\u001B[39;00m\u001B[38;5;21;01m.\u001B[39;00m\u001B[38;5;21;01mengine\u001B[39;00m\u001B[38;5;21;01m.\u001B[39;00m\u001B[38;5;21;01mresults\u001B[39;00m \u001B[38;5;28;01mimport\u001B[39;00m Results\n\u001B[0;32m     13\u001B[0m \u001B[38;5;28;01mfrom\u001B[39;00m \u001B[38;5;21;01multralytics\u001B[39;00m\u001B[38;5;21;01m.\u001B[39;00m\u001B[38;5;21;01mhub\u001B[39;00m \u001B[38;5;28;01mimport\u001B[39;00m HUB_WEB_ROOT, HUBTrainingSession\n",
      "File \u001B[1;32m~\\anaconda3\\envs\\VC_P4\\lib\\site-packages\\ultralytics\\cfg\\__init__.py:10\u001B[0m\n\u001B[0;32m      7\u001B[0m \u001B[38;5;28;01mfrom\u001B[39;00m \u001B[38;5;21;01mtypes\u001B[39;00m \u001B[38;5;28;01mimport\u001B[39;00m SimpleNamespace\n\u001B[0;32m      8\u001B[0m \u001B[38;5;28;01mfrom\u001B[39;00m \u001B[38;5;21;01mtyping\u001B[39;00m \u001B[38;5;28;01mimport\u001B[39;00m Dict, List, Union\n\u001B[1;32m---> 10\u001B[0m \u001B[38;5;28;01mfrom\u001B[39;00m \u001B[38;5;21;01multralytics\u001B[39;00m\u001B[38;5;21;01m.\u001B[39;00m\u001B[38;5;21;01mutils\u001B[39;00m \u001B[38;5;28;01mimport\u001B[39;00m (\n\u001B[0;32m     11\u001B[0m     ASSETS,\n\u001B[0;32m     12\u001B[0m     DEFAULT_CFG,\n\u001B[0;32m     13\u001B[0m     DEFAULT_CFG_DICT,\n\u001B[0;32m     14\u001B[0m     DEFAULT_CFG_PATH,\n\u001B[0;32m     15\u001B[0m     IS_VSCODE,\n\u001B[0;32m     16\u001B[0m     LOGGER,\n\u001B[0;32m     17\u001B[0m     RANK,\n\u001B[0;32m     18\u001B[0m     ROOT,\n\u001B[0;32m     19\u001B[0m     RUNS_DIR,\n\u001B[0;32m     20\u001B[0m     SETTINGS,\n\u001B[0;32m     21\u001B[0m     SETTINGS_FILE,\n\u001B[0;32m     22\u001B[0m     TESTS_RUNNING,\n\u001B[0;32m     23\u001B[0m     IterableSimpleNamespace,\n\u001B[0;32m     24\u001B[0m     __version__,\n\u001B[0;32m     25\u001B[0m     checks,\n\u001B[0;32m     26\u001B[0m     colorstr,\n\u001B[0;32m     27\u001B[0m     deprecation_warn,\n\u001B[0;32m     28\u001B[0m     vscode_msg,\n\u001B[0;32m     29\u001B[0m     yaml_load,\n\u001B[0;32m     30\u001B[0m     yaml_print,\n\u001B[0;32m     31\u001B[0m )\n\u001B[0;32m     33\u001B[0m \u001B[38;5;66;03m# Define valid tasks and modes\u001B[39;00m\n\u001B[0;32m     34\u001B[0m MODES \u001B[38;5;241m=\u001B[39m {\u001B[38;5;124m\"\u001B[39m\u001B[38;5;124mtrain\u001B[39m\u001B[38;5;124m\"\u001B[39m, \u001B[38;5;124m\"\u001B[39m\u001B[38;5;124mval\u001B[39m\u001B[38;5;124m\"\u001B[39m, \u001B[38;5;124m\"\u001B[39m\u001B[38;5;124mpredict\u001B[39m\u001B[38;5;124m\"\u001B[39m, \u001B[38;5;124m\"\u001B[39m\u001B[38;5;124mexport\u001B[39m\u001B[38;5;124m\"\u001B[39m, \u001B[38;5;124m\"\u001B[39m\u001B[38;5;124mtrack\u001B[39m\u001B[38;5;124m\"\u001B[39m, \u001B[38;5;124m\"\u001B[39m\u001B[38;5;124mbenchmark\u001B[39m\u001B[38;5;124m\"\u001B[39m}\n",
      "File \u001B[1;32m~\\anaconda3\\envs\\VC_P4\\lib\\site-packages\\ultralytics\\utils\\__init__.py:50\u001B[0m\n\u001B[0;32m     48\u001B[0m ARM64 \u001B[38;5;241m=\u001B[39m platform\u001B[38;5;241m.\u001B[39mmachine() \u001B[38;5;129;01min\u001B[39;00m {\u001B[38;5;124m\"\u001B[39m\u001B[38;5;124marm64\u001B[39m\u001B[38;5;124m\"\u001B[39m, \u001B[38;5;124m\"\u001B[39m\u001B[38;5;124maarch64\u001B[39m\u001B[38;5;124m\"\u001B[39m}  \u001B[38;5;66;03m# ARM64 booleans\u001B[39;00m\n\u001B[0;32m     49\u001B[0m PYTHON_VERSION \u001B[38;5;241m=\u001B[39m platform\u001B[38;5;241m.\u001B[39mpython_version()\n\u001B[1;32m---> 50\u001B[0m TORCH_VERSION \u001B[38;5;241m=\u001B[39m \u001B[43mtorch\u001B[49m\u001B[38;5;241;43m.\u001B[39;49m\u001B[43m__version__\u001B[49m\n\u001B[0;32m     51\u001B[0m TORCHVISION_VERSION \u001B[38;5;241m=\u001B[39m importlib\u001B[38;5;241m.\u001B[39mmetadata\u001B[38;5;241m.\u001B[39mversion(\u001B[38;5;124m\"\u001B[39m\u001B[38;5;124mtorchvision\u001B[39m\u001B[38;5;124m\"\u001B[39m)  \u001B[38;5;66;03m# faster than importing torchvision\u001B[39;00m\n\u001B[0;32m     52\u001B[0m IS_VSCODE \u001B[38;5;241m=\u001B[39m os\u001B[38;5;241m.\u001B[39menviron\u001B[38;5;241m.\u001B[39mget(\u001B[38;5;124m\"\u001B[39m\u001B[38;5;124mTERM_PROGRAM\u001B[39m\u001B[38;5;124m\"\u001B[39m, \u001B[38;5;28;01mFalse\u001B[39;00m) \u001B[38;5;241m==\u001B[39m \u001B[38;5;124m\"\u001B[39m\u001B[38;5;124mvscode\u001B[39m\u001B[38;5;124m\"\u001B[39m\n",
      "\u001B[1;31mAttributeError\u001B[0m: module 'torch' has no attribute '__version__'"
     ]
    }
   ],
   "execution_count": 2,
   "source": [
    "import cv2\n",
    "from ultralytics import YOLO\n",
    "\n",
    "# Load the models\n",
    "model1 = YOLO('yolo11n-seg.pt')  # Model for segmentation (masks)\n",
    "model2 = YOLO('runs/detect/train9/weights/best.pt')  # Model for pose estimation\n",
    "\n",
    "# Define the video source\n",
    "filename = \"C0142.MP4\"\n",
    "cap = cv2.VideoCapture(filename)\n",
    "\n",
    "# Process the video frame by frame\n",
    "while cap.isOpened():\n",
    "    ret, frame = cap.read()\n",
    "    if not ret:\n",
    "        break\n",
    "\n",
    "    # Perform inference with the first model (segmentation)\n",
    "    results1 = model1.predict(source=frame, augment=True, show=False)\n",
    "    \n",
    "    # Perform inference with the second model (pose estimation)\n",
    "    results2 = model2.predict(source=frame, augment=True, show=False)\n",
    "\n",
    "    # Visualize results from the first model (masks)\n",
    "    annotated_frame1 = results1[0].plot()  # Draw segmentation results\n",
    "\n",
    "    # Visualize results from the second model (pose estimation)\n",
    "    annotated_frame2 = results2[0].plot()  # Draw pose results\n",
    "\n",
    "    # Combine the annotations from both models\n",
    "    combined_frame = cv2.addWeighted(annotated_frame1, 0.5, annotated_frame2, 0.5, 0)\n",
    "\n",
    "    # Display the combined results\n",
    "    cv2.imshow('Combined Results', combined_frame)\n",
    "\n",
    "    # Exit if 'q' is pressed\n",
    "    if cv2.waitKey(1) & 0xFF == ord('q'):\n",
    "        break\n",
    "\n",
    "cap.release()\n",
    "cv2.destroyAllWindows()"
   ]
  }
 ],
 "metadata": {
  "kernelspec": {
   "display_name": "VC_P4",
   "language": "python",
   "name": "python3"
  },
  "language_info": {
   "codemirror_mode": {
    "name": "ipython",
    "version": 3
   },
   "file_extension": ".py",
   "mimetype": "text/x-python",
   "name": "python",
   "nbconvert_exporter": "python",
   "pygments_lexer": "ipython3",
   "version": "3.9.5"
  },
  "orig_nbformat": 4
 },
 "nbformat": 4,
 "nbformat_minor": 2
}
